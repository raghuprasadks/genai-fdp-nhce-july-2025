{
  "nbformat": 4,
  "nbformat_minor": 0,
  "metadata": {
    "colab": {
      "provenance": []
    },
    "kernelspec": {
      "name": "python3",
      "display_name": "Python 3"
    },
    "language_info": {
      "name": "python"
    }
  },
  "cells": [
    {
      "cell_type": "code",
      "source": [
        "!pip install gensim"
      ],
      "metadata": {
        "colab": {
          "base_uri": "https://localhost:8080/",
          "height": 690
        },
        "id": "kXxu9jqds2wM",
        "outputId": "4c578884-882c-4c1e-ff68-6478e85e9ea0"
      },
      "execution_count": 1,
      "outputs": [
        {
          "output_type": "stream",
          "name": "stdout",
          "text": [
            "Collecting gensim\n",
            "  Downloading gensim-4.3.3-cp311-cp311-manylinux_2_17_x86_64.manylinux2014_x86_64.whl.metadata (8.1 kB)\n",
            "Collecting numpy<2.0,>=1.18.5 (from gensim)\n",
            "  Downloading numpy-1.26.4-cp311-cp311-manylinux_2_17_x86_64.manylinux2014_x86_64.whl.metadata (61 kB)\n",
            "\u001b[2K     \u001b[90m━━━━━━━━━━━━━━━━━━━━━━━━━━━━━━━━━━━━━━━━\u001b[0m \u001b[32m61.0/61.0 kB\u001b[0m \u001b[31m4.4 MB/s\u001b[0m eta \u001b[36m0:00:00\u001b[0m\n",
            "\u001b[?25hCollecting scipy<1.14.0,>=1.7.0 (from gensim)\n",
            "  Downloading scipy-1.13.1-cp311-cp311-manylinux_2_17_x86_64.manylinux2014_x86_64.whl.metadata (60 kB)\n",
            "\u001b[2K     \u001b[90m━━━━━━━━━━━━━━━━━━━━━━━━━━━━━━━━━━━━━━━━\u001b[0m \u001b[32m60.6/60.6 kB\u001b[0m \u001b[31m3.7 MB/s\u001b[0m eta \u001b[36m0:00:00\u001b[0m\n",
            "\u001b[?25hRequirement already satisfied: smart-open>=1.8.1 in /usr/local/lib/python3.11/dist-packages (from gensim) (7.3.0.post1)\n",
            "Requirement already satisfied: wrapt in /usr/local/lib/python3.11/dist-packages (from smart-open>=1.8.1->gensim) (1.17.2)\n",
            "Downloading gensim-4.3.3-cp311-cp311-manylinux_2_17_x86_64.manylinux2014_x86_64.whl (26.7 MB)\n",
            "\u001b[2K   \u001b[90m━━━━━━━━━━━━━━━━━━━━━━━━━━━━━━━━━━━━━━━━\u001b[0m \u001b[32m26.7/26.7 MB\u001b[0m \u001b[31m29.2 MB/s\u001b[0m eta \u001b[36m0:00:00\u001b[0m\n",
            "\u001b[?25hDownloading numpy-1.26.4-cp311-cp311-manylinux_2_17_x86_64.manylinux2014_x86_64.whl (18.3 MB)\n",
            "\u001b[2K   \u001b[90m━━━━━━━━━━━━━━━━━━━━━━━━━━━━━━━━━━━━━━━━\u001b[0m \u001b[32m18.3/18.3 MB\u001b[0m \u001b[31m44.2 MB/s\u001b[0m eta \u001b[36m0:00:00\u001b[0m\n",
            "\u001b[?25hDownloading scipy-1.13.1-cp311-cp311-manylinux_2_17_x86_64.manylinux2014_x86_64.whl (38.6 MB)\n",
            "\u001b[2K   \u001b[90m━━━━━━━━━━━━━━━━━━━━━━━━━━━━━━━━━━━━━━━━\u001b[0m \u001b[32m38.6/38.6 MB\u001b[0m \u001b[31m18.2 MB/s\u001b[0m eta \u001b[36m0:00:00\u001b[0m\n",
            "\u001b[?25hInstalling collected packages: numpy, scipy, gensim\n",
            "  Attempting uninstall: numpy\n",
            "    Found existing installation: numpy 2.0.2\n",
            "    Uninstalling numpy-2.0.2:\n",
            "      Successfully uninstalled numpy-2.0.2\n",
            "  Attempting uninstall: scipy\n",
            "    Found existing installation: scipy 1.16.0\n",
            "    Uninstalling scipy-1.16.0:\n",
            "      Successfully uninstalled scipy-1.16.0\n",
            "\u001b[31mERROR: pip's dependency resolver does not currently take into account all the packages that are installed. This behaviour is the source of the following dependency conflicts.\n",
            "opencv-python 4.12.0.88 requires numpy<2.3.0,>=2; python_version >= \"3.9\", but you have numpy 1.26.4 which is incompatible.\n",
            "tsfresh 0.21.0 requires scipy>=1.14.0; python_version >= \"3.10\", but you have scipy 1.13.1 which is incompatible.\n",
            "thinc 8.3.6 requires numpy<3.0.0,>=2.0.0, but you have numpy 1.26.4 which is incompatible.\n",
            "opencv-python-headless 4.12.0.88 requires numpy<2.3.0,>=2; python_version >= \"3.9\", but you have numpy 1.26.4 which is incompatible.\n",
            "opencv-contrib-python 4.12.0.88 requires numpy<2.3.0,>=2; python_version >= \"3.9\", but you have numpy 1.26.4 which is incompatible.\u001b[0m\u001b[31m\n",
            "\u001b[0mSuccessfully installed gensim-4.3.3 numpy-1.26.4 scipy-1.13.1\n"
          ]
        },
        {
          "output_type": "display_data",
          "data": {
            "application/vnd.colab-display-data+json": {
              "pip_warning": {
                "packages": [
                  "numpy"
                ]
              },
              "id": "7ce67e23033d4e6e809f9c87057cf084"
            }
          },
          "metadata": {}
        }
      ]
    },
    {
      "cell_type": "code",
      "execution_count": 1,
      "metadata": {
        "colab": {
          "base_uri": "https://localhost:8080/"
        },
        "id": "IMxcTxVnsjmt",
        "outputId": "dbe891ca-78ac-4852-e4c1-09eb33579e2d"
      },
      "outputs": [
        {
          "output_type": "stream",
          "name": "stdout",
          "text": [
            "['king is a strong man', 'queen is a wise woman', 'boy is a young man', 'girl is a young woman', 'prince is a young', 'prince will be strong', 'princess is young', 'man is strong', 'woman is pretty', 'prince is a boy', 'prince will be king', 'princess is a girl', 'princess will be queen']\n"
          ]
        }
      ],
      "source": [
        "corpus = ['king is a strong man','queen is a wise woman','boy is a young man',\n",
        "          'girl is a young woman','prince is a young','prince will be strong',\n",
        "          'princess is young','man is strong','woman is pretty', 'prince is a boy',\n",
        "          'prince will be king', 'princess is a girl', 'princess will be queen']\n",
        "print(corpus)"
      ]
    },
    {
      "cell_type": "code",
      "source": [
        "statements_listt = []\n",
        "for cor in corpus:\n",
        "  statements_listt.append(cor.split())\n",
        "print(statements_listt)\n",
        "from gensim.parsing.preprocessing import STOPWORDS\n",
        "documents = [[word for word in document if word not in STOPWORDS] for document in statements_listt]"
      ],
      "metadata": {
        "colab": {
          "base_uri": "https://localhost:8080/"
        },
        "id": "In5UTMTkslS2",
        "outputId": "f6f02c02-3bf8-40ca-cef5-f0b790064cb5"
      },
      "execution_count": 2,
      "outputs": [
        {
          "output_type": "stream",
          "name": "stdout",
          "text": [
            "[['king', 'is', 'a', 'strong', 'man'], ['queen', 'is', 'a', 'wise', 'woman'], ['boy', 'is', 'a', 'young', 'man'], ['girl', 'is', 'a', 'young', 'woman'], ['prince', 'is', 'a', 'young'], ['prince', 'will', 'be', 'strong'], ['princess', 'is', 'young'], ['man', 'is', 'strong'], ['woman', 'is', 'pretty'], ['prince', 'is', 'a', 'boy'], ['prince', 'will', 'be', 'king'], ['princess', 'is', 'a', 'girl'], ['princess', 'will', 'be', 'queen']]\n"
          ]
        }
      ]
    },
    {
      "cell_type": "code",
      "source": [
        "documents"
      ],
      "metadata": {
        "colab": {
          "base_uri": "https://localhost:8080/"
        },
        "id": "Gq09Fgcut4gD",
        "outputId": "d9c567fb-10ae-4714-d468-44b9d1b3e17e"
      },
      "execution_count": 3,
      "outputs": [
        {
          "output_type": "execute_result",
          "data": {
            "text/plain": [
              "[['king', 'strong', 'man'],\n",
              " ['queen', 'wise', 'woman'],\n",
              " ['boy', 'young', 'man'],\n",
              " ['girl', 'young', 'woman'],\n",
              " ['prince', 'young'],\n",
              " ['prince', 'strong'],\n",
              " ['princess', 'young'],\n",
              " ['man', 'strong'],\n",
              " ['woman', 'pretty'],\n",
              " ['prince', 'boy'],\n",
              " ['prince', 'king'],\n",
              " ['princess', 'girl'],\n",
              " ['princess', 'queen']]"
            ]
          },
          "metadata": {},
          "execution_count": 3
        }
      ]
    },
    {
      "cell_type": "code",
      "source": [
        "import gensim\n",
        "from gensim.models import Word2Vec\n",
        "model = Word2Vec(documents, min_count=1, vector_size=3, window = 3)\n",
        "# Assuming you have already trained your Word2Vec model and it's stored in the 'model' variable\n",
        "\n",
        "# 1. Addition and Subtraction:\n",
        "vector1 = model.wv['king']\n",
        "vector2 = model.wv['man']\n",
        "sum_vector = vector1 + vector2\n",
        "print(\"sum vector \",sum_vector)\n",
        "diff_vector = vector1 - vector2\n",
        "print(\"difference vector \",sum_vector)\n",
        "# 2. Cosine Similarity:\n",
        "similarity = model.wv.similarity('king', 'queen')\n",
        "print(f\"Cosine Similarity between 'king' and 'queen': {similarity}\")\n",
        "\n",
        "# 3. Finding Most Similar Words:\n",
        "similar_words = model.wv.most_similar('king', topn=5)\n",
        "print(f\"Most Similar words to 'king': {similar_words}\")\n",
        "\n",
        "# 4. Analogy Example:\n",
        "analogy_vector = model.wv['king'] - model.wv['man'] + model.wv['woman']\n",
        "most_similar = model.wv.most_similar(positive=[analogy_vector], topn=1)\n",
        "print(f\"Analogy Result (king - man + woman): {most_similar}\")"
      ],
      "metadata": {
        "colab": {
          "base_uri": "https://localhost:8080/"
        },
        "id": "1YUbL_Qesoz0",
        "outputId": "6d3dfee5-3ef1-4a2d-fbcf-ed055660b283"
      },
      "execution_count": 4,
      "outputs": [
        {
          "output_type": "stream",
          "name": "stdout",
          "text": [
            "sum vector  [ 0.04106534 -0.03225286 -0.2932088 ]\n",
            "difference vector  [ 0.04106534 -0.03225286 -0.2932088 ]\n",
            "Cosine Similarity between 'king' and 'queen': 0.8843974471092224\n",
            "Most Similar words to 'king': [('young', 0.9887178540229797), ('queen', 0.8843973875045776), ('girl', -0.036878012120723724), ('princess', -0.08420105278491974), ('wise', -0.20955052971839905)]\n",
            "Analogy Result (king - man + woman): [('queen', 0.9522483944892883)]\n"
          ]
        }
      ]
    }
  ]
}